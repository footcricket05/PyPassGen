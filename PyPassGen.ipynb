{
 "cells": [
  {
   "cell_type": "code",
   "execution_count": 2,
   "id": "3114896f",
   "metadata": {},
   "outputs": [],
   "source": [
    "from tkinter import *\n",
    "import random\n",
    "import string\n",
    "import pyperclip\n",
    "\n",
    "def generate_password():\n",
    "    password = ''\n",
    "    for x in range(0, 4):\n",
    "        password += random.choice(string.ascii_uppercase + string.ascii_lowercase + string.digits + string.punctuation)\n",
    "    for y in range(pass_len.get() - 4):\n",
    "        password += random.choice(string.ascii_uppercase + string.ascii_lowercase + string.digits + string.punctuation)\n",
    "    pass_str.set(password)\n",
    "\n",
    "def copy_password():\n",
    "    pyperclip.copy(pass_str.get())\n",
    "    status.set(\"Password copied to clipboard!\")\n",
    "\n",
    "def exit_app():\n",
    "    root.destroy()\n",
    "\n",
    "root = Tk()\n",
    "root.geometry(\"400x250\")\n",
    "root.resizable(0, 0)\n",
    "root.title(\"Password Generator\")\n",
    "\n",
    "heading = Label(root, text='Password Generator', font='arial 15 bold')\n",
    "heading.pack()\n",
    "\n",
    "pass_label = Label(root, text='Password Length', font='arial 10 bold')\n",
    "pass_label.pack()\n",
    "\n",
    "pass_len = IntVar()\n",
    "length = Spinbox(root, from_=8, to_=32, textvariable=pass_len, width=15)\n",
    "length.pack()\n",
    "\n",
    "pass_str = StringVar()\n",
    "\n",
    "generate_button = Button(root, text=\"Generate Password\", command=generate_password)\n",
    "generate_button.pack(pady=5)\n",
    "\n",
    "password_entry = Entry(root, textvariable=pass_str)\n",
    "password_entry.pack()\n",
    "\n",
    "copy_button = Button(root, text='Copy to Clipboard', command=copy_password)\n",
    "copy_button.pack(pady=5)\n",
    "\n",
    "exit_button = Button(root, text='Exit', command=exit_app)\n",
    "exit_button.pack(pady=5)\n",
    "\n",
    "status = StringVar()\n",
    "status_label = Label(root, textvariable=status, fg=\"green\")\n",
    "status_label.pack()\n",
    "\n",
    "root.mainloop()\n"
   ]
  },
  {
   "cell_type": "code",
   "execution_count": null,
   "id": "75be4e14",
   "metadata": {},
   "outputs": [],
   "source": []
  }
 ],
 "metadata": {
  "kernelspec": {
   "display_name": "Python 3 (ipykernel)",
   "language": "python",
   "name": "python3"
  },
  "language_info": {
   "codemirror_mode": {
    "name": "ipython",
    "version": 3
   },
   "file_extension": ".py",
   "mimetype": "text/x-python",
   "name": "python",
   "nbconvert_exporter": "python",
   "pygments_lexer": "ipython3",
   "version": "3.10.1"
  }
 },
 "nbformat": 4,
 "nbformat_minor": 5
}
